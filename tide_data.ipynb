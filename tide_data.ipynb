{
 "cells": [
  {
   "cell_type": "code",
   "execution_count": 1,
   "metadata": {},
   "outputs": [],
   "source": [
    "import requests\n",
    "import json"
   ]
  },
  {
   "cell_type": "code",
   "execution_count": 2,
   "metadata": {},
   "outputs": [],
   "source": [
    "url = \"https://api.tidesandcurrents.noaa.gov/api/prod/datagetter?product=predictions&application=NOS.COOPS.TAC.WL&begin_date=20201203&end_date=20201204&datum=MLLW&station=9447130&time_zone=lst_ldt&units=english&interval=hilo&format=json\""
   ]
  },
  {
   "cell_type": "code",
   "execution_count": 3,
   "metadata": {},
   "outputs": [
    {
     "name": "stdout",
     "output_type": "stream",
     "text": [
      "<Response [200]>\n"
     ]
    }
   ],
   "source": [
    "my_response_obj = requests.get(url)\n",
    "print(my_response_obj)"
   ]
  },
  {
   "cell_type": "code",
   "execution_count": 4,
   "metadata": {},
   "outputs": [
    {
     "name": "stdout",
     "output_type": "stream",
     "text": [
      "{'predictions': [{'t': '2020-12-03 00:03', 'v': '-1.694', 'type': 'L'}, {'t': '2020-12-03 07:37', 'v': '12.030', 'type': 'H'}, {'t': '2020-12-03 13:10', 'v': '7.955', 'type': 'L'}, {'t': '2020-12-03 17:25', 'v': '9.752', 'type': 'H'}, {'t': '2020-12-04 00:43', 'v': '-1.540', 'type': 'L'}, {'t': '2020-12-04 08:19', 'v': '12.052', 'type': 'H'}, {'t': '2020-12-04 14:01', 'v': '7.864', 'type': 'L'}, {'t': '2020-12-04 18:07', 'v': '9.359', 'type': 'H'}]}\n"
     ]
    }
   ],
   "source": [
    "my_json = my_response_obj.json()\n",
    "print(my_json)"
   ]
  },
  {
   "cell_type": "code",
   "execution_count": 5,
   "metadata": {},
   "outputs": [
    {
     "name": "stdout",
     "output_type": "stream",
     "text": [
      "{\n",
      "    \"predictions\": [\n",
      "        {\n",
      "            \"t\": \"2020-12-03 00:03\",\n",
      "            \"type\": \"L\",\n",
      "            \"v\": \"-1.694\"\n",
      "        },\n",
      "        {\n",
      "            \"t\": \"2020-12-03 07:37\",\n",
      "            \"type\": \"H\",\n",
      "            \"v\": \"12.030\"\n",
      "        },\n",
      "        {\n",
      "            \"t\": \"2020-12-03 13:10\",\n",
      "            \"type\": \"L\",\n",
      "            \"v\": \"7.955\"\n",
      "        },\n",
      "        {\n",
      "            \"t\": \"2020-12-03 17:25\",\n",
      "            \"type\": \"H\",\n",
      "            \"v\": \"9.752\"\n",
      "        },\n",
      "        {\n",
      "            \"t\": \"2020-12-04 00:43\",\n",
      "            \"type\": \"L\",\n",
      "            \"v\": \"-1.540\"\n",
      "        },\n",
      "        {\n",
      "            \"t\": \"2020-12-04 08:19\",\n",
      "            \"type\": \"H\",\n",
      "            \"v\": \"12.052\"\n",
      "        },\n",
      "        {\n",
      "            \"t\": \"2020-12-04 14:01\",\n",
      "            \"type\": \"L\",\n",
      "            \"v\": \"7.864\"\n",
      "        },\n",
      "        {\n",
      "            \"t\": \"2020-12-04 18:07\",\n",
      "            \"type\": \"H\",\n",
      "            \"v\": \"9.359\"\n",
      "        }\n",
      "    ]\n",
      "}\n"
     ]
    }
   ],
   "source": [
    "print(json.dumps(my_json, indent=4, sort_keys=True))"
   ]
  },
  {
   "cell_type": "code",
   "execution_count": 11,
   "metadata": {},
   "outputs": [],
   "source": [
    "results = my_json[\"predictions\"]"
   ]
  },
  {
   "cell_type": "code",
   "execution_count": 17,
   "metadata": {},
   "outputs": [
    {
     "data": {
      "text/html": [
       "<div>\n",
       "<style scoped>\n",
       "    .dataframe tbody tr th:only-of-type {\n",
       "        vertical-align: middle;\n",
       "    }\n",
       "\n",
       "    .dataframe tbody tr th {\n",
       "        vertical-align: top;\n",
       "    }\n",
       "\n",
       "    .dataframe thead th {\n",
       "        text-align: right;\n",
       "    }\n",
       "</style>\n",
       "<table border=\"1\" class=\"dataframe\">\n",
       "  <thead>\n",
       "    <tr style=\"text-align: right;\">\n",
       "      <th></th>\n",
       "      <th>date</th>\n",
       "      <th>tide type</th>\n",
       "      <th>level (in)</th>\n",
       "    </tr>\n",
       "  </thead>\n",
       "  <tbody>\n",
       "    <tr>\n",
       "      <th>0</th>\n",
       "      <td>2020-12-03 00:03</td>\n",
       "      <td>L</td>\n",
       "      <td>-1.694</td>\n",
       "    </tr>\n",
       "    <tr>\n",
       "      <th>1</th>\n",
       "      <td>2020-12-03 07:37</td>\n",
       "      <td>H</td>\n",
       "      <td>12.030</td>\n",
       "    </tr>\n",
       "    <tr>\n",
       "      <th>2</th>\n",
       "      <td>2020-12-03 13:10</td>\n",
       "      <td>L</td>\n",
       "      <td>7.955</td>\n",
       "    </tr>\n",
       "    <tr>\n",
       "      <th>3</th>\n",
       "      <td>2020-12-03 17:25</td>\n",
       "      <td>H</td>\n",
       "      <td>9.752</td>\n",
       "    </tr>\n",
       "    <tr>\n",
       "      <th>4</th>\n",
       "      <td>2020-12-04 00:43</td>\n",
       "      <td>L</td>\n",
       "      <td>-1.540</td>\n",
       "    </tr>\n",
       "  </tbody>\n",
       "</table>\n",
       "</div>"
      ],
      "text/plain": [
       "               date tide type level (in)\n",
       "0  2020-12-03 00:03         L     -1.694\n",
       "1  2020-12-03 07:37         H     12.030\n",
       "2  2020-12-03 13:10         L      7.955\n",
       "3  2020-12-03 17:25         H      9.752\n",
       "4  2020-12-04 00:43         L     -1.540"
      ]
     },
     "execution_count": 17,
     "metadata": {},
     "output_type": "execute_result"
    }
   ],
   "source": [
    "import pandas as pd \n",
    "\n",
    "# geta list of station ids\n",
    "stations = [9447130]\n",
    "\n",
    "# set up the url \n",
    "url = \"https://api.tidesandcurrents.noaa.gov/api/prod/datagetter?product=predictions&application=NOS.COOPS.TAC.WL&begin_date=20201203&end_date=20201204&datum=MLLW&station=\"\n",
    "url2 = \"&time_zone=lst_ldt&units=english&interval=hilo&format=json\"\n",
    "\n",
    "# set up lists to hold response info\n",
    "date = []\n",
    "tide = []\n",
    "level = []\n",
    "\n",
    "# loop through the results and add the metrics to each list\n",
    "for station in stations:\n",
    "    results = requests.get(url + str(station) + url2).json()\n",
    "    results = results['predictions']\n",
    "    for result in results:\n",
    "        date.append(result['t'])\n",
    "        tide.append(result['type'])\n",
    "        level.append(result['v'])\n",
    "\n",
    "# create a dataframe from the lists \n",
    "\n",
    "tide_dict = {\n",
    "    \"date\": date,\n",
    "    \"tide type\": tide,\n",
    "    \"level (in)\": level\n",
    "}\n",
    "\n",
    "tide_data = pd.DataFrame(tide_dict)\n",
    "tide_data.head()"
   ]
  },
  {
   "cell_type": "code",
   "execution_count": null,
   "metadata": {},
   "outputs": [],
   "source": []
  },
  {
   "cell_type": "code",
   "execution_count": null,
   "metadata": {},
   "outputs": [],
   "source": []
  }
 ],
 "metadata": {
  "kernelspec": {
   "display_name": "Python 3",
   "language": "python",
   "name": "python3"
  },
  "language_info": {
   "codemirror_mode": {
    "name": "ipython",
    "version": 3
   },
   "file_extension": ".py",
   "mimetype": "text/x-python",
   "name": "python",
   "nbconvert_exporter": "python",
   "pygments_lexer": "ipython3",
   "version": "3.8.3"
  }
 },
 "nbformat": 4,
 "nbformat_minor": 4
}
